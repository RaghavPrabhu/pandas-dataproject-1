{
 "cells": [
  {
   "cell_type": "code",
   "execution_count": 170,
   "metadata": {},
   "outputs": [],
   "source": [
    "# Import headers\n",
    "import pandas as pd\n",
    "import csv\n",
    "import json\n",
    "import matplotlib.pyplot as plt\n",
    "import seaborn as sns\n",
    "%matplotlib inline\n",
    "\n",
    "plt.rcParams[\"figure.figsize\"] = (20,5)"
   ]
  },
  {
   "cell_type": "code",
   "execution_count": 171,
   "metadata": {},
   "outputs": [],
   "source": [
    "\"\"\"Parse JSON file and convert as CSV file. Cleaning JSON file \n",
    "and remove unwated elements and write into a CSV file\"\"\"\n",
    "\n",
    "with open('railway_gauges.json') as json_data:\n",
    "    data = json.load(json_data)\n",
    "\n",
    "# Write Headers    \n",
    "field_header = []    \n",
    "for fields in data['fields']:\n",
    "    field_header.append(fields['label'])\n",
    "\n",
    "# Write Rows\n",
    "with open('railway_gauges.csv', 'w') as infile:\n",
    "    writer = csv.DictWriter(infile, fieldnames=field_header)\n",
    "    writer.writeheader()\n",
    "    \n",
    "    for values in data['data']:\n",
    "        writer.writerow({field_header[0]:values[0],field_header[1]:int(values[1]),field_header[2]:int(values[2]),field_header[3]:int(values[3]),\n",
    "                        field_header[4]:int(values[4])})\n",
    "        \n",
    "    \n",
    "\n",
    "\n",
    "      "
   ]
  },
  {
   "cell_type": "code",
   "execution_count": 172,
   "metadata": {},
   "outputs": [
    {
     "data": {
      "text/html": [
       "<div>\n",
       "<style scoped>\n",
       "    .dataframe tbody tr th:only-of-type {\n",
       "        vertical-align: middle;\n",
       "    }\n",
       "\n",
       "    .dataframe tbody tr th {\n",
       "        vertical-align: top;\n",
       "    }\n",
       "\n",
       "    .dataframe thead th {\n",
       "        text-align: right;\n",
       "    }\n",
       "</style>\n",
       "<table border=\"1\" class=\"dataframe\">\n",
       "  <thead>\n",
       "    <tr style=\"text-align: right;\">\n",
       "      <th></th>\n",
       "      <th>Year</th>\n",
       "      <th>Broad Gauge</th>\n",
       "      <th>Metre Gauge</th>\n",
       "      <th>Narrow Gauge</th>\n",
       "      <th>Total</th>\n",
       "    </tr>\n",
       "  </thead>\n",
       "  <tbody>\n",
       "    <tr>\n",
       "      <th>0</th>\n",
       "      <td>1964-65</td>\n",
       "      <td>3521</td>\n",
       "      <td>2891</td>\n",
       "      <td>464</td>\n",
       "      <td>6876</td>\n",
       "    </tr>\n",
       "    <tr>\n",
       "      <th>1</th>\n",
       "      <td>1965-66</td>\n",
       "      <td>3603</td>\n",
       "      <td>2913</td>\n",
       "      <td>470</td>\n",
       "      <td>6986</td>\n",
       "    </tr>\n",
       "    <tr>\n",
       "      <th>2</th>\n",
       "      <td>1966-67</td>\n",
       "      <td>3615</td>\n",
       "      <td>2911</td>\n",
       "      <td>481</td>\n",
       "      <td>7007</td>\n",
       "    </tr>\n",
       "    <tr>\n",
       "      <th>3</th>\n",
       "      <td>1967-68</td>\n",
       "      <td>3601</td>\n",
       "      <td>2920</td>\n",
       "      <td>506</td>\n",
       "      <td>7027</td>\n",
       "    </tr>\n",
       "    <tr>\n",
       "      <th>4</th>\n",
       "      <td>1968-69</td>\n",
       "      <td>3603</td>\n",
       "      <td>2921</td>\n",
       "      <td>508</td>\n",
       "      <td>7032</td>\n",
       "    </tr>\n",
       "  </tbody>\n",
       "</table>\n",
       "</div>"
      ],
      "text/plain": [
       "      Year  Broad Gauge  Metre Gauge  Narrow Gauge  Total\n",
       "0  1964-65         3521         2891           464   6876\n",
       "1  1965-66         3603         2913           470   6986\n",
       "2  1966-67         3615         2911           481   7007\n",
       "3  1967-68         3601         2920           506   7027\n",
       "4  1968-69         3603         2921           508   7032"
      ]
     },
     "execution_count": 172,
     "metadata": {},
     "output_type": "execute_result"
    }
   ],
   "source": [
    "# Load CSV file\n",
    "df = pd.read_csv('railway_gauges.csv')\n",
    "df.head()"
   ]
  },
  {
   "cell_type": "code",
   "execution_count": 173,
   "metadata": {},
   "outputs": [
    {
     "data": {
      "text/html": [
       "<div>\n",
       "<style scoped>\n",
       "    .dataframe tbody tr th:only-of-type {\n",
       "        vertical-align: middle;\n",
       "    }\n",
       "\n",
       "    .dataframe tbody tr th {\n",
       "        vertical-align: top;\n",
       "    }\n",
       "\n",
       "    .dataframe thead th {\n",
       "        text-align: right;\n",
       "    }\n",
       "</style>\n",
       "<table border=\"1\" class=\"dataframe\">\n",
       "  <thead>\n",
       "    <tr style=\"text-align: right;\">\n",
       "      <th></th>\n",
       "      <th>Year</th>\n",
       "      <th>Broad Gauge</th>\n",
       "      <th>Metre Gauge</th>\n",
       "      <th>Narrow Gauge</th>\n",
       "      <th>Total</th>\n",
       "    </tr>\n",
       "  </thead>\n",
       "  <tbody>\n",
       "    <tr>\n",
       "      <th>48</th>\n",
       "      <td>2012-13</td>\n",
       "      <td>6577</td>\n",
       "      <td>379</td>\n",
       "      <td>216</td>\n",
       "      <td>7172</td>\n",
       "    </tr>\n",
       "  </tbody>\n",
       "</table>\n",
       "</div>"
      ],
      "text/plain": [
       "       Year  Broad Gauge  Metre Gauge  Narrow Gauge  Total\n",
       "48  2012-13         6577          379           216   7172"
      ]
     },
     "execution_count": 173,
     "metadata": {},
     "output_type": "execute_result"
    }
   ],
   "source": [
    "# Find max of 'Broad Gauge'\n",
    "df.iloc[[df['Broad Gauge'].idxmax()]]"
   ]
  },
  {
   "cell_type": "code",
   "execution_count": 174,
   "metadata": {},
   "outputs": [
    {
     "data": {
      "text/html": [
       "<div>\n",
       "<style scoped>\n",
       "    .dataframe tbody tr th:only-of-type {\n",
       "        vertical-align: middle;\n",
       "    }\n",
       "\n",
       "    .dataframe tbody tr th {\n",
       "        vertical-align: top;\n",
       "    }\n",
       "\n",
       "    .dataframe thead th {\n",
       "        text-align: right;\n",
       "    }\n",
       "</style>\n",
       "<table border=\"1\" class=\"dataframe\">\n",
       "  <thead>\n",
       "    <tr style=\"text-align: right;\">\n",
       "      <th></th>\n",
       "      <th>Year</th>\n",
       "      <th>Broad Gauge</th>\n",
       "      <th>Metre Gauge</th>\n",
       "      <th>Narrow Gauge</th>\n",
       "      <th>Total</th>\n",
       "    </tr>\n",
       "  </thead>\n",
       "  <tbody>\n",
       "    <tr>\n",
       "      <th>4</th>\n",
       "      <td>1968-69</td>\n",
       "      <td>3603</td>\n",
       "      <td>2921</td>\n",
       "      <td>508</td>\n",
       "      <td>7032</td>\n",
       "    </tr>\n",
       "  </tbody>\n",
       "</table>\n",
       "</div>"
      ],
      "text/plain": [
       "      Year  Broad Gauge  Metre Gauge  Narrow Gauge  Total\n",
       "4  1968-69         3603         2921           508   7032"
      ]
     },
     "execution_count": 174,
     "metadata": {},
     "output_type": "execute_result"
    }
   ],
   "source": [
    "# Find max of 'Metre Gauge'\n",
    "df.iloc[[df['Metre Gauge'].idxmax()]]"
   ]
  },
  {
   "cell_type": "code",
   "execution_count": 175,
   "metadata": {},
   "outputs": [
    {
     "data": {
      "text/html": [
       "<div>\n",
       "<style scoped>\n",
       "    .dataframe tbody tr th:only-of-type {\n",
       "        vertical-align: middle;\n",
       "    }\n",
       "\n",
       "    .dataframe tbody tr th {\n",
       "        vertical-align: top;\n",
       "    }\n",
       "\n",
       "    .dataframe thead th {\n",
       "        text-align: right;\n",
       "    }\n",
       "</style>\n",
       "<table border=\"1\" class=\"dataframe\">\n",
       "  <thead>\n",
       "    <tr style=\"text-align: right;\">\n",
       "      <th></th>\n",
       "      <th>Year</th>\n",
       "      <th>Broad Gauge</th>\n",
       "      <th>Metre Gauge</th>\n",
       "      <th>Narrow Gauge</th>\n",
       "      <th>Total</th>\n",
       "    </tr>\n",
       "  </thead>\n",
       "  <tbody>\n",
       "    <tr>\n",
       "      <th>4</th>\n",
       "      <td>1968-69</td>\n",
       "      <td>3603</td>\n",
       "      <td>2921</td>\n",
       "      <td>508</td>\n",
       "      <td>7032</td>\n",
       "    </tr>\n",
       "  </tbody>\n",
       "</table>\n",
       "</div>"
      ],
      "text/plain": [
       "      Year  Broad Gauge  Metre Gauge  Narrow Gauge  Total\n",
       "4  1968-69         3603         2921           508   7032"
      ]
     },
     "execution_count": 175,
     "metadata": {},
     "output_type": "execute_result"
    }
   ],
   "source": [
    "# Find max of 'Narrow Gauge'\n",
    "df.iloc[[df['Narrow Gauge'].idxmax()]]"
   ]
  },
  {
   "cell_type": "code",
   "execution_count": 176,
   "metadata": {},
   "outputs": [
    {
     "data": {
      "text/html": [
       "<div>\n",
       "<style scoped>\n",
       "    .dataframe tbody tr th:only-of-type {\n",
       "        vertical-align: middle;\n",
       "    }\n",
       "\n",
       "    .dataframe tbody tr th {\n",
       "        vertical-align: top;\n",
       "    }\n",
       "\n",
       "    .dataframe thead th {\n",
       "        text-align: right;\n",
       "    }\n",
       "</style>\n",
       "<table border=\"1\" class=\"dataframe\">\n",
       "  <thead>\n",
       "    <tr style=\"text-align: right;\">\n",
       "      <th></th>\n",
       "      <th>Year</th>\n",
       "      <th>Broad Gauge</th>\n",
       "      <th>Metre Gauge</th>\n",
       "      <th>Narrow Gauge</th>\n",
       "      <th>Total</th>\n",
       "    </tr>\n",
       "  </thead>\n",
       "  <tbody>\n",
       "    <tr>\n",
       "      <th>48</th>\n",
       "      <td>2012-13</td>\n",
       "      <td>6577</td>\n",
       "      <td>379</td>\n",
       "      <td>216</td>\n",
       "      <td>7172</td>\n",
       "    </tr>\n",
       "  </tbody>\n",
       "</table>\n",
       "</div>"
      ],
      "text/plain": [
       "       Year  Broad Gauge  Metre Gauge  Narrow Gauge  Total\n",
       "48  2012-13         6577          379           216   7172"
      ]
     },
     "execution_count": 176,
     "metadata": {},
     "output_type": "execute_result"
    }
   ],
   "source": [
    "# Find which year had the maximum installations\n",
    "df.iloc[[df['Total'].idxmax()]]"
   ]
  },
  {
   "cell_type": "code",
   "execution_count": 177,
   "metadata": {},
   "outputs": [
    {
     "data": {
      "text/html": [
       "<div>\n",
       "<style scoped>\n",
       "    .dataframe tbody tr th:only-of-type {\n",
       "        vertical-align: middle;\n",
       "    }\n",
       "\n",
       "    .dataframe tbody tr th {\n",
       "        vertical-align: top;\n",
       "    }\n",
       "\n",
       "    .dataframe thead th {\n",
       "        text-align: right;\n",
       "    }\n",
       "</style>\n",
       "<table border=\"1\" class=\"dataframe\">\n",
       "  <thead>\n",
       "    <tr style=\"text-align: right;\">\n",
       "      <th></th>\n",
       "      <th>Broad Gauge</th>\n",
       "      <th>Metre Gauge</th>\n",
       "      <th>Narrow Gauge</th>\n",
       "      <th>Total</th>\n",
       "    </tr>\n",
       "  </thead>\n",
       "  <tbody>\n",
       "    <tr>\n",
       "      <th>count</th>\n",
       "      <td>49.000000</td>\n",
       "      <td>49.000000</td>\n",
       "      <td>49.000000</td>\n",
       "      <td>49.000000</td>\n",
       "    </tr>\n",
       "    <tr>\n",
       "      <th>mean</th>\n",
       "      <td>4572.775510</td>\n",
       "      <td>2077.510204</td>\n",
       "      <td>386.795918</td>\n",
       "      <td>7037.081633</td>\n",
       "    </tr>\n",
       "    <tr>\n",
       "      <th>std</th>\n",
       "      <td>946.656887</td>\n",
       "      <td>847.318863</td>\n",
       "      <td>106.809991</td>\n",
       "      <td>73.805724</td>\n",
       "    </tr>\n",
       "    <tr>\n",
       "      <th>min</th>\n",
       "      <td>3521.000000</td>\n",
       "      <td>379.000000</td>\n",
       "      <td>191.000000</td>\n",
       "      <td>6853.000000</td>\n",
       "    </tr>\n",
       "    <tr>\n",
       "      <th>25%</th>\n",
       "      <td>3767.000000</td>\n",
       "      <td>1318.000000</td>\n",
       "      <td>284.000000</td>\n",
       "      <td>7017.000000</td>\n",
       "    </tr>\n",
       "    <tr>\n",
       "      <th>50%</th>\n",
       "      <td>4163.000000</td>\n",
       "      <td>2478.000000</td>\n",
       "      <td>442.000000</td>\n",
       "      <td>7056.000000</td>\n",
       "    </tr>\n",
       "    <tr>\n",
       "      <th>75%</th>\n",
       "      <td>5261.000000</td>\n",
       "      <td>2786.000000</td>\n",
       "      <td>468.000000</td>\n",
       "      <td>7084.000000</td>\n",
       "    </tr>\n",
       "    <tr>\n",
       "      <th>max</th>\n",
       "      <td>6577.000000</td>\n",
       "      <td>2921.000000</td>\n",
       "      <td>508.000000</td>\n",
       "      <td>7172.000000</td>\n",
       "    </tr>\n",
       "  </tbody>\n",
       "</table>\n",
       "</div>"
      ],
      "text/plain": [
       "       Broad Gauge  Metre Gauge  Narrow Gauge        Total\n",
       "count    49.000000    49.000000     49.000000    49.000000\n",
       "mean   4572.775510  2077.510204    386.795918  7037.081633\n",
       "std     946.656887   847.318863    106.809991    73.805724\n",
       "min    3521.000000   379.000000    191.000000  6853.000000\n",
       "25%    3767.000000  1318.000000    284.000000  7017.000000\n",
       "50%    4163.000000  2478.000000    442.000000  7056.000000\n",
       "75%    5261.000000  2786.000000    468.000000  7084.000000\n",
       "max    6577.000000  2921.000000    508.000000  7172.000000"
      ]
     },
     "execution_count": 177,
     "metadata": {},
     "output_type": "execute_result"
    }
   ],
   "source": [
    "# Dataframe to describe Min, Max, Mean, STD\n",
    "df.describe()"
   ]
  },
  {
   "cell_type": "code",
   "execution_count": 178,
   "metadata": {},
   "outputs": [
    {
     "data": {
      "image/png": "[encoded data removed]",
      "text/plain": [
       "<matplotlib.figure.Figure at 0x117787dd8>"
      ]
     },
     "metadata": {},
     "output_type": "display_data"
    }
   ],
   "source": [
    "df = df.drop('Total', axis=1)\n",
    "ax = df.plot(x=\"Year\", kind=\"bar\")\n",
    "plt.xticks(rotation=70)\n",
    "plt.xlabel('Year')\n",
    "plt.ylabel('Total')\n",
    "plt.title('Gauges: Number of railway tracks installed per year')\n",
    "plt.savefig('rail_gauges.png')\n",
    "plt.show()"
   ]
  },
  {
   "cell_type": "code",
   "execution_count": null,
   "metadata": {},
   "outputs": [],
   "source": []
  },
  {
   "cell_type": "code",
   "execution_count": null,
   "metadata": {},
   "outputs": [],
   "source": []
  }
 ],
 "metadata": {
  "kernelspec": {
   "display_name": "Python 3",
   "language": "python",
   "name": "python3"
  },
  "language_info": {
   "codemirror_mode": {
    "name": "ipython",
    "version": 3
   },
   "file_extension": ".py",
   "mimetype": "text/x-python",
   "name": "python",
   "nbconvert_exporter": "python",
   "pygments_lexer": "ipython3",
   "version": "3.5.3"
  }
 },
 "nbformat": 4,
 "nbformat_minor": 2
}
